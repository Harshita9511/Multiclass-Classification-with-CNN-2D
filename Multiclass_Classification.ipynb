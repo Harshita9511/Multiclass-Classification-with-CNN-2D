{
 "cells": [
  {
   "cell_type": "markdown",
   "metadata": {},
   "source": [
    "In Multiclass classification, the instances can be classified into one of three or more classes. Here, the Dataset contains image data of Natural Scenes around the world that are distributed into 6 different categories. {'buildings' -> 0, 'forest' -> 1, 'glacier' -> 2, 'mountain' -> 3, 'sea' -> 4, 'street' -> 5 }\n",
    "\n",
    "There are 14034 images in Train data and 3000 images in Test data."
   ]
  },
  {
   "cell_type": "markdown",
   "metadata": {},
   "source": [
    "## Import Libraries"
   ]
  },
  {
   "cell_type": "code",
   "execution_count": 9,
   "metadata": {},
   "outputs": [],
   "source": [
    "import tensorflow\n",
    "from tensorflow.keras.models import Sequential\n",
    "from tensorflow.keras.layers import Conv2D\n",
    "from tensorflow.keras.layers import MaxPooling2D\n",
    "from tensorflow.keras.layers import Flatten\n",
    "from tensorflow.keras.layers import Dense, Dropout\n",
    "from tensorflow.keras.utils import to_categorical"
   ]
  },
  {
   "cell_type": "code",
   "execution_count": 10,
   "metadata": {},
   "outputs": [
    {
     "name": "stdout",
     "output_type": "stream",
     "text": [
      "Tensorflow Version:  2.3.1\n"
     ]
    }
   ],
   "source": [
    "print('Tensorflow Version: ',tensorflow.__version__)"
   ]
  },
  {
   "cell_type": "markdown",
   "metadata": {},
   "source": [
    "## CNN-2D Model"
   ]
  },
  {
   "cell_type": "code",
   "execution_count": 11,
   "metadata": {},
   "outputs": [
    {
     "name": "stdout",
     "output_type": "stream",
     "text": [
      "Found 14034 images belonging to 6 classes.\n",
      "Found 3000 images belonging to 6 classes.\n"
     ]
    }
   ],
   "source": [
    "# ImageDataGenerator generate batches of tensor image data with real-time data augmentation.\n",
    "from tensorflow.keras.preprocessing.image import ImageDataGenerator\n",
    "\n",
    "train_datagen = ImageDataGenerator(rescale = 1./255,\n",
    "                                   shear_range = 0.2,\n",
    "                                   zoom_range = 0.2,\n",
    "                                   horizontal_flip = True)\n",
    "test_datagen = ImageDataGenerator(rescale = 1./255)\n",
    "\n",
    "training_set = train_datagen.flow_from_directory('dataset/seg_train',\n",
    "                                                 target_size = (64, 64),\n",
    "                                                 batch_size = 32,\n",
    "                                                 class_mode='binary')\n",
    "\n",
    "test_set = test_datagen.flow_from_directory('dataset/seg_test',\n",
    "                                            target_size = (64, 64),\n",
    "                                            batch_size = 32,\n",
    "                                            class_mode='binary')"
   ]
  },
  {
   "cell_type": "code",
   "execution_count": 12,
   "metadata": {},
   "outputs": [
    {
     "data": {
      "text/plain": [
       "{'buildings': 0,\n",
       " 'forest': 1,\n",
       " 'glacier': 2,\n",
       " 'mountain': 3,\n",
       " 'sea': 4,\n",
       " 'street': 5}"
      ]
     },
     "execution_count": 12,
     "metadata": {},
     "output_type": "execute_result"
    }
   ],
   "source": [
    "training_set.class_indices"
   ]
  },
  {
   "cell_type": "code",
   "execution_count": 13,
   "metadata": {},
   "outputs": [
    {
     "name": "stdout",
     "output_type": "stream",
     "text": [
      "Model: \"sequential_1\"\n",
      "_________________________________________________________________\n",
      "Layer (type)                 Output Shape              Param #   \n",
      "=================================================================\n",
      "conv2d_2 (Conv2D)            (None, 62, 62, 32)        896       \n",
      "_________________________________________________________________\n",
      "max_pooling2d_1 (MaxPooling2 (None, 31, 31, 32)        0         \n",
      "_________________________________________________________________\n",
      "conv2d_3 (Conv2D)            (None, 29, 29, 32)        9248      \n",
      "_________________________________________________________________\n",
      "flatten_1 (Flatten)          (None, 26912)             0         \n",
      "_________________________________________________________________\n",
      "dense_3 (Dense)              (None, 256)               6889728   \n",
      "_________________________________________________________________\n",
      "dropout_1 (Dropout)          (None, 256)               0         \n",
      "_________________________________________________________________\n",
      "dense_4 (Dense)              (None, 128)               32896     \n",
      "_________________________________________________________________\n",
      "dense_5 (Dense)              (None, 6)                 774       \n",
      "=================================================================\n",
      "Total params: 6,933,542\n",
      "Trainable params: 6,933,542\n",
      "Non-trainable params: 0\n",
      "_________________________________________________________________\n"
     ]
    }
   ],
   "source": [
    "# Initialising the CNN\n",
    "model = Sequential()\n",
    "\n",
    "# Convolution\n",
    "model.add(Conv2D(32, (3, 3), input_shape = (64, 64, 3), activation = 'relu'))\n",
    "\n",
    "# Pooling\n",
    "model.add(MaxPooling2D(pool_size = (2, 2)))\n",
    "\n",
    "# Convolution\n",
    "model.add(Conv2D(32, (3, 3), input_shape = (64, 64, 3), activation = 'relu'))\n",
    "\n",
    "# Flattening\n",
    "model.add(Flatten())\n",
    "\n",
    "# Full connection\n",
    "model.add(Dense(units = 256, activation = 'relu'))\n",
    "\n",
    "# Add Dropout to prevent overfitting\n",
    "model.add(Dropout(0.5))\n",
    "\n",
    "model.add(Dense(units = 128, activation = 'relu'))\n",
    "\n",
    "model.add(Dense(units = 6, activation = 'softmax'))\n",
    "\n",
    "# Compiling the CNN\n",
    "model.compile(optimizer = 'adam', loss = 'sparse_categorical_crossentropy', metrics = ['accuracy'])\n",
    "model.summary()"
   ]
  },
  {
   "cell_type": "code",
   "execution_count": 14,
   "metadata": {},
   "outputs": [],
   "source": [
    "from tensorflow.keras.callbacks import EarlyStopping\n",
    "early_stop = EarlyStopping(monitor='val_loss', mode='min', verbose=1, patience=4)"
   ]
  },
  {
   "cell_type": "code",
   "execution_count": 15,
   "metadata": {},
   "outputs": [
    {
     "name": "stdout",
     "output_type": "stream",
     "text": [
      "Epoch 1/40\n",
      "250/250 [==============================] - 54s 215ms/step - loss: 1.2227 - accuracy: 0.5153 - val_loss: 1.0285 - val_accuracy: 0.6100\n",
      "Epoch 2/40\n",
      "250/250 [==============================] - 53s 212ms/step - loss: 0.9750 - accuracy: 0.6276 - val_loss: 0.8577 - val_accuracy: 0.6669\n",
      "Epoch 3/40\n",
      "250/250 [==============================] - 52s 209ms/step - loss: 0.8843 - accuracy: 0.6672 - val_loss: 0.9797 - val_accuracy: 0.6681\n",
      "Epoch 4/40\n",
      "250/250 [==============================] - 51s 206ms/step - loss: 0.8163 - accuracy: 0.7017 - val_loss: 0.7276 - val_accuracy: 0.7419\n",
      "Epoch 5/40\n",
      "250/250 [==============================] - 51s 204ms/step - loss: 0.7668 - accuracy: 0.7186 - val_loss: 0.7434 - val_accuracy: 0.7369\n",
      "Epoch 6/40\n",
      "250/250 [==============================] - 52s 207ms/step - loss: 0.7357 - accuracy: 0.7290 - val_loss: 0.7185 - val_accuracy: 0.7369\n",
      "Epoch 7/40\n",
      "250/250 [==============================] - 52s 208ms/step - loss: 0.6756 - accuracy: 0.7524 - val_loss: 0.6750 - val_accuracy: 0.7688\n",
      "Epoch 8/40\n",
      "250/250 [==============================] - 54s 218ms/step - loss: 0.6730 - accuracy: 0.7554 - val_loss: 0.6887 - val_accuracy: 0.7600\n",
      "Epoch 9/40\n",
      "250/250 [==============================] - 52s 207ms/step - loss: 0.6425 - accuracy: 0.7714 - val_loss: 0.6740 - val_accuracy: 0.7719\n",
      "Epoch 10/40\n",
      "250/250 [==============================] - 52s 208ms/step - loss: 0.6244 - accuracy: 0.7755 - val_loss: 0.6151 - val_accuracy: 0.7744\n",
      "Epoch 11/40\n",
      "250/250 [==============================] - 52s 209ms/step - loss: 0.5953 - accuracy: 0.7900 - val_loss: 0.6425 - val_accuracy: 0.7719\n",
      "Epoch 12/40\n",
      "250/250 [==============================] - 53s 210ms/step - loss: 0.5908 - accuracy: 0.7873 - val_loss: 0.6257 - val_accuracy: 0.7800\n",
      "Epoch 13/40\n",
      "250/250 [==============================] - 52s 208ms/step - loss: 0.5840 - accuracy: 0.7899 - val_loss: 0.5555 - val_accuracy: 0.8081\n",
      "Epoch 14/40\n",
      "250/250 [==============================] - 51s 205ms/step - loss: 0.5727 - accuracy: 0.7946 - val_loss: 0.6580 - val_accuracy: 0.7644\n",
      "Epoch 15/40\n",
      "250/250 [==============================] - 53s 213ms/step - loss: 0.5531 - accuracy: 0.8042 - val_loss: 0.5967 - val_accuracy: 0.7906\n",
      "Epoch 16/40\n",
      "250/250 [==============================] - 52s 208ms/step - loss: 0.5479 - accuracy: 0.8123 - val_loss: 0.6376 - val_accuracy: 0.7713\n",
      "Epoch 17/40\n",
      "250/250 [==============================] - 51s 203ms/step - loss: 0.5407 - accuracy: 0.8109 - val_loss: 0.5916 - val_accuracy: 0.7912\n",
      "Epoch 00017: early stopping\n"
     ]
    }
   ],
   "source": [
    "# Fitting the model\n",
    "classifier = model.fit_generator(training_set,\n",
    "                         steps_per_epoch = 250,\n",
    "                         epochs = 40,\n",
    "                         validation_data = test_set,    \n",
    "                         validation_steps = 50,\n",
    "                         callbacks=[early_stop])"
   ]
  },
  {
   "cell_type": "code",
   "execution_count": 16,
   "metadata": {},
   "outputs": [
    {
     "name": "stdout",
     "output_type": "stream",
     "text": [
      "Saved model to disk\n"
     ]
    }
   ],
   "source": [
    "# save the model\n",
    "model.save(\"model.h5\")\n",
    "print(\"Saved model to disk\")"
   ]
  },
  {
   "cell_type": "markdown",
   "metadata": {},
   "source": [
    "## Loss & Accuracy Graph (Training and Test)"
   ]
  },
  {
   "cell_type": "code",
   "execution_count": 18,
   "metadata": {},
   "outputs": [
    {
     "data": {
      "text/html": [
       "<div>\n",
       "<style scoped>\n",
       "    .dataframe tbody tr th:only-of-type {\n",
       "        vertical-align: middle;\n",
       "    }\n",
       "\n",
       "    .dataframe tbody tr th {\n",
       "        vertical-align: top;\n",
       "    }\n",
       "\n",
       "    .dataframe thead th {\n",
       "        text-align: right;\n",
       "    }\n",
       "</style>\n",
       "<table border=\"1\" class=\"dataframe\">\n",
       "  <thead>\n",
       "    <tr style=\"text-align: right;\">\n",
       "      <th></th>\n",
       "      <th>loss</th>\n",
       "      <th>accuracy</th>\n",
       "      <th>val_loss</th>\n",
       "      <th>val_accuracy</th>\n",
       "      <th>Epoch</th>\n",
       "    </tr>\n",
       "    <tr>\n",
       "      <th>Epoch</th>\n",
       "      <th></th>\n",
       "      <th></th>\n",
       "      <th></th>\n",
       "      <th></th>\n",
       "      <th></th>\n",
       "    </tr>\n",
       "  </thead>\n",
       "  <tbody>\n",
       "    <tr>\n",
       "      <th>1</th>\n",
       "      <td>1.222738</td>\n",
       "      <td>0.515277</td>\n",
       "      <td>1.028514</td>\n",
       "      <td>0.610000</td>\n",
       "      <td>1</td>\n",
       "    </tr>\n",
       "    <tr>\n",
       "      <th>2</th>\n",
       "      <td>0.975048</td>\n",
       "      <td>0.627625</td>\n",
       "      <td>0.857672</td>\n",
       "      <td>0.666875</td>\n",
       "      <td>2</td>\n",
       "    </tr>\n",
       "    <tr>\n",
       "      <th>3</th>\n",
       "      <td>0.884322</td>\n",
       "      <td>0.667250</td>\n",
       "      <td>0.979676</td>\n",
       "      <td>0.668125</td>\n",
       "      <td>3</td>\n",
       "    </tr>\n",
       "    <tr>\n",
       "      <th>4</th>\n",
       "      <td>0.816258</td>\n",
       "      <td>0.701728</td>\n",
       "      <td>0.727644</td>\n",
       "      <td>0.741875</td>\n",
       "      <td>4</td>\n",
       "    </tr>\n",
       "    <tr>\n",
       "      <th>5</th>\n",
       "      <td>0.766759</td>\n",
       "      <td>0.718625</td>\n",
       "      <td>0.743398</td>\n",
       "      <td>0.736875</td>\n",
       "      <td>5</td>\n",
       "    </tr>\n",
       "    <tr>\n",
       "      <th>6</th>\n",
       "      <td>0.735689</td>\n",
       "      <td>0.729026</td>\n",
       "      <td>0.718496</td>\n",
       "      <td>0.736875</td>\n",
       "      <td>6</td>\n",
       "    </tr>\n",
       "    <tr>\n",
       "      <th>7</th>\n",
       "      <td>0.675575</td>\n",
       "      <td>0.752375</td>\n",
       "      <td>0.674981</td>\n",
       "      <td>0.768750</td>\n",
       "      <td>7</td>\n",
       "    </tr>\n",
       "    <tr>\n",
       "      <th>8</th>\n",
       "      <td>0.672972</td>\n",
       "      <td>0.755375</td>\n",
       "      <td>0.688719</td>\n",
       "      <td>0.760000</td>\n",
       "      <td>8</td>\n",
       "    </tr>\n",
       "    <tr>\n",
       "      <th>9</th>\n",
       "      <td>0.642453</td>\n",
       "      <td>0.771375</td>\n",
       "      <td>0.674028</td>\n",
       "      <td>0.771875</td>\n",
       "      <td>9</td>\n",
       "    </tr>\n",
       "    <tr>\n",
       "      <th>10</th>\n",
       "      <td>0.624365</td>\n",
       "      <td>0.775482</td>\n",
       "      <td>0.615089</td>\n",
       "      <td>0.774375</td>\n",
       "      <td>10</td>\n",
       "    </tr>\n",
       "    <tr>\n",
       "      <th>11</th>\n",
       "      <td>0.595262</td>\n",
       "      <td>0.790008</td>\n",
       "      <td>0.642456</td>\n",
       "      <td>0.771875</td>\n",
       "      <td>11</td>\n",
       "    </tr>\n",
       "    <tr>\n",
       "      <th>12</th>\n",
       "      <td>0.590819</td>\n",
       "      <td>0.787253</td>\n",
       "      <td>0.625688</td>\n",
       "      <td>0.780000</td>\n",
       "      <td>12</td>\n",
       "    </tr>\n",
       "    <tr>\n",
       "      <th>13</th>\n",
       "      <td>0.584021</td>\n",
       "      <td>0.789882</td>\n",
       "      <td>0.555507</td>\n",
       "      <td>0.808125</td>\n",
       "      <td>13</td>\n",
       "    </tr>\n",
       "    <tr>\n",
       "      <th>14</th>\n",
       "      <td>0.572734</td>\n",
       "      <td>0.794641</td>\n",
       "      <td>0.658035</td>\n",
       "      <td>0.764375</td>\n",
       "      <td>14</td>\n",
       "    </tr>\n",
       "    <tr>\n",
       "      <th>15</th>\n",
       "      <td>0.553123</td>\n",
       "      <td>0.804157</td>\n",
       "      <td>0.596653</td>\n",
       "      <td>0.790625</td>\n",
       "      <td>15</td>\n",
       "    </tr>\n",
       "    <tr>\n",
       "      <th>16</th>\n",
       "      <td>0.547886</td>\n",
       "      <td>0.812250</td>\n",
       "      <td>0.637621</td>\n",
       "      <td>0.771250</td>\n",
       "      <td>16</td>\n",
       "    </tr>\n",
       "    <tr>\n",
       "      <th>17</th>\n",
       "      <td>0.540690</td>\n",
       "      <td>0.810919</td>\n",
       "      <td>0.591557</td>\n",
       "      <td>0.791250</td>\n",
       "      <td>17</td>\n",
       "    </tr>\n",
       "  </tbody>\n",
       "</table>\n",
       "</div>"
      ],
      "text/plain": [
       "           loss  accuracy  val_loss  val_accuracy  Epoch\n",
       "Epoch                                                   \n",
       "1      1.222738  0.515277  1.028514      0.610000      1\n",
       "2      0.975048  0.627625  0.857672      0.666875      2\n",
       "3      0.884322  0.667250  0.979676      0.668125      3\n",
       "4      0.816258  0.701728  0.727644      0.741875      4\n",
       "5      0.766759  0.718625  0.743398      0.736875      5\n",
       "6      0.735689  0.729026  0.718496      0.736875      6\n",
       "7      0.675575  0.752375  0.674981      0.768750      7\n",
       "8      0.672972  0.755375  0.688719      0.760000      8\n",
       "9      0.642453  0.771375  0.674028      0.771875      9\n",
       "10     0.624365  0.775482  0.615089      0.774375     10\n",
       "11     0.595262  0.790008  0.642456      0.771875     11\n",
       "12     0.590819  0.787253  0.625688      0.780000     12\n",
       "13     0.584021  0.789882  0.555507      0.808125     13\n",
       "14     0.572734  0.794641  0.658035      0.764375     14\n",
       "15     0.553123  0.804157  0.596653      0.790625     15\n",
       "16     0.547886  0.812250  0.637621      0.771250     16\n",
       "17     0.540690  0.810919  0.591557      0.791250     17"
      ]
     },
     "execution_count": 18,
     "metadata": {},
     "output_type": "execute_result"
    }
   ],
   "source": [
    "import pandas as pd\n",
    "import matplotlib.pyplot as plt\n",
    "%matplotlib inline\n",
    "\n",
    "df=pd.DataFrame(model.history.history)\n",
    "df['Epoch']=range(1,18)\n",
    "df.index=df['Epoch']\n",
    "df"
   ]
  },
  {
   "cell_type": "code",
   "execution_count": 19,
   "metadata": {},
   "outputs": [
    {
     "data": {
      "image/png": "[encoded data removed]",
      "text/plain": [
       "<Figure size 432x288 with 1 Axes>"
      ]
     },
     "metadata": {
      "needs_background": "light"
     },
     "output_type": "display_data"
    }
   ],
   "source": [
    "#Loss Graph - Multiclass Classification CNN-2D\n",
    "plt.plot(df['loss'], color='red')\n",
    "plt.plot(df['val_loss'], color='yellow')\n",
    "plt.title('Multiclass Classification Model Loss')\n",
    "plt.ylabel('Loss')\n",
    "plt.xlabel('Epoch')\n",
    "plt.legend(['train_loss', 'val_loss'])\n",
    "plt.show()"
   ]
  },
  {
   "cell_type": "code",
   "execution_count": 20,
   "metadata": {},
   "outputs": [
    {
     "data": {
      "image/png": "[encoded data removed]",
      "text/plain": [
       "<Figure size 432x288 with 1 Axes>"
      ]
     },
     "metadata": {
      "needs_background": "light"
     },
     "output_type": "display_data"
    }
   ],
   "source": [
    "# Accuracy Graph - Multiclass Classification CNN-2D \n",
    "plt.plot(df['accuracy'], color='blue')\n",
    "plt.plot(df['val_accuracy'], color='green')\n",
    "plt.title('Multiclass Classification Model Accuracy')\n",
    "plt.ylabel('Accuracy')\n",
    "plt.xlabel('Epoch')\n",
    "plt.legend(['train_acc', 'val_acc'])\n",
    "plt.show()"
   ]
  },
  {
   "cell_type": "markdown",
   "metadata": {},
   "source": [
    "## Prediction on New Data"
   ]
  },
  {
   "cell_type": "code",
   "execution_count": 22,
   "metadata": {},
   "outputs": [
    {
     "name": "stdout",
     "output_type": "stream",
     "text": [
      "Forest\n"
     ]
    },
    {
     "data": {
      "image/png": "[encoded data removed]",
      "text/plain": [
       "<Figure size 432x288 with 1 Axes>"
      ]
     },
     "metadata": {
      "needs_background": "light"
     },
     "output_type": "display_data"
    }
   ],
   "source": [
    "# Making predictions on new data\n",
    "import numpy as np\n",
    "import matplotlib.pyplot as plt\n",
    "import matplotlib.image as mpimg\n",
    "from tensorflow.keras.preprocessing import image\n",
    "\n",
    "test_image = image.load_img('dataset/seg_pred/88.jpg', target_size = (64, 64))\n",
    "imgplot = plt.imshow(test_image)\n",
    "test_image = image.img_to_array(test_image)\n",
    "test_image = np.expand_dims(test_image, axis = 0)\n",
    "result = model.predict(test_image)\n",
    "    \n",
    "if result[0][0] == 1:\n",
    "    prediction = 'Buildings'\n",
    "    print(prediction)\n",
    "elif result[0][1] == 1:\n",
    "    prediction = 'Forest'\n",
    "    print(prediction)\n",
    "elif result[0][2] == 1:\n",
    "    prediction = 'Glacier'\n",
    "    print(prediction)\n",
    "elif result[0][3] == 1:\n",
    "    prediction = 'Mountain'\n",
    "    print(prediction)\n",
    "elif result[0][4] == 1:\n",
    "    prediction = 'Sea'\n",
    "    print(prediction)\n",
    "else:\n",
    "    prediction = 'Street'\n",
    "    print(prediction)"
   ]
  }
 ],
 "metadata": {
  "kernelspec": {
   "display_name": "Python 3",
   "language": "python",
   "name": "python3"
  },
  "language_info": {
   "codemirror_mode": {
    "name": "ipython",
    "version": 3
   },
   "file_extension": ".py",
   "mimetype": "text/x-python",
   "name": "python",
   "nbconvert_exporter": "python",
   "pygments_lexer": "ipython3",
   "version": "3.7.4"
  }
 },
 "nbformat": 4,
 "nbformat_minor": 4
}
